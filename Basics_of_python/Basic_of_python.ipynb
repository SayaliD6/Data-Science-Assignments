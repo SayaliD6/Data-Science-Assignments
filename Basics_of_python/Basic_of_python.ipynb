{
 "cells": [
  {
   "cell_type": "markdown",
   "id": "0c56e1ea-1a3e-481a-b49e-19b479165c0b",
   "metadata": {},
   "source": [
    "# PYTHON PROGRAMMING ASSIGNMENT\n",
    "## Q1. Prime Numbers\r",
    "### Write a Python program that checks whether a given number is prime or not."
   ]
  },
  {
   "cell_type": "code",
   "execution_count": 9,
   "id": "1f8e4521-b466-48a5-a906-72775d94fb1c",
   "metadata": {},
   "outputs": [
    {
     "name": "stdin",
     "output_type": "stream",
     "text": [
      "Enter a number:  244\n"
     ]
    },
    {
     "name": "stdout",
     "output_type": "stream",
     "text": [
      "244 is not a prime number\n"
     ]
    }
   ],
   "source": [
    "def is_prime(n):\n",
    "    if n <= 1:\n",
    "        return False\n",
    "    if n <= 3:\n",
    "        return True\n",
    "    if n % 2 == 0 or n % 3 == 0:\n",
    "        return False\n",
    "    i = 5\n",
    "    while i * i <= n:\n",
    "        if n % i == 0 or n % (i + 2) == 0:\n",
    "            return False\n",
    "        i += 6\n",
    "    return True\n",
    "\n",
    "# Test the function\n",
    "number = int(input(\"Enter a number: \"))\n",
    "if is_prime(number):\n",
    "    print(number, \"is a prime number\")\n",
    "else:\n",
    "    print(number, \"is not a prime number\")\n"
   ]
  },
  {
   "cell_type": "markdown",
   "id": "64386089-c7d7-4782-866d-5f8c095f30ba",
   "metadata": {},
   "source": [
    "## Q2. Product of Random Numbers\n",
    "### Develop a Python program that generates two random numbers and asks the user to enter the product of these numbers. \n",
    "### The program should then check if the user's answer is correct and display an appropriate message."
   ]
  },
  {
   "cell_type": "code",
   "execution_count": 11,
   "id": "97ed13e2-5ed3-408e-a8df-4cdb4bee5171",
   "metadata": {},
   "outputs": [
    {
     "name": "stdout",
     "output_type": "stream",
     "text": [
      "Welcome to the Random Number Game!\n",
      "Can you guess the product of 1 and 9?\n"
     ]
    },
    {
     "name": "stdin",
     "output_type": "stream",
     "text": [
      "Enter your answer:  77\n"
     ]
    },
    {
     "name": "stdout",
     "output_type": "stream",
     "text": [
      "Sorry, your answer is incorrect. The correct answer is 9.\n"
     ]
    }
   ],
   "source": [
    "import random\n",
    "\n",
    "def generate_random_numbers():\n",
    "    num1 = random.randint(1, 10)\n",
    "    num2 = random.randint(1, 10)\n",
    "    return num1, num2\n",
    "\n",
    "def main():\n",
    "    num1, num2 = generate_random_numbers()\n",
    "    product = num1 * num2\n",
    "\n",
    "    print(\"Welcome to the Random Number Game!\")\n",
    "    print(\"Can you guess the product of {} and {}?\".format(num1, num2))\n",
    "\n",
    "    user_answer = int(input(\"Enter your answer: \"))\n",
    "\n",
    "    if user_answer == product:\n",
    "        print(\"Congratulations! Your answer is correct.\")\n",
    "    else:\n",
    "        print(\"Sorry, your answer is incorrect. The correct answer is {}.\".format(product))\n",
    "\n",
    "if __name__ == \"__main__\":\n",
    "    main()\n"
   ]
  },
  {
   "cell_type": "markdown",
   "id": "77c2dc36-1485-4c66-94a3-6481558b7e99",
   "metadata": {},
   "source": [
    "## Q3. Squares of Even/Odd Numbers\n",
    "### Create a Python script that prints the squares of all even or odd numbers within the range of 100 to 200. \n",
    "### Choose either even or odd numbers and document your choice in the code.\n"
   ]
  },
  {
   "cell_type": "code",
   "execution_count": 4,
   "id": "80fc3ab1-c334-420f-acfb-6b8d7fc8e884",
   "metadata": {},
   "outputs": [
    {
     "name": "stdout",
     "output_type": "stream",
     "text": [
      "Squares of odd numbers within the range of 100 to 200:\n",
      "10201\n",
      "10609\n",
      "11025\n",
      "11449\n",
      "11881\n",
      "12321\n",
      "12769\n",
      "13225\n",
      "13689\n",
      "14161\n",
      "14641\n",
      "15129\n",
      "15625\n",
      "16129\n",
      "16641\n",
      "17161\n",
      "17689\n",
      "18225\n",
      "18769\n",
      "19321\n",
      "19881\n",
      "20449\n",
      "21025\n",
      "21609\n",
      "22201\n",
      "22801\n",
      "23409\n",
      "24025\n",
      "24649\n",
      "25281\n",
      "25921\n",
      "26569\n",
      "27225\n",
      "27889\n",
      "28561\n",
      "29241\n",
      "29929\n",
      "30625\n",
      "31329\n",
      "32041\n",
      "32761\n",
      "33489\n",
      "34225\n",
      "34969\n",
      "35721\n",
      "36481\n",
      "37249\n",
      "38025\n",
      "38809\n",
      "39601\n"
     ]
    }
   ],
   "source": [
    "# This script prints the squares of all odd numbers within the range of 100 to 200.\n",
    "\n",
    "print(\"Squares of odd numbers within the range of 100 to 200:\")\n",
    "\n",
    "for num in range(101, 200, 2):\n",
    "    print(num ** 2)\n"
   ]
  },
  {
   "cell_type": "markdown",
   "id": "74f09122-250b-47d8-9171-74bb07569cf5",
   "metadata": {},
   "source": [
    "## Q4. Word counter\n",
    "### write a program to count the number of words in a given text.\n",
    "#### example:\n",
    "#### input_text = \"This is a sample text. This text will be used to demonstrate the word counter.\"\n",
    "#### Expected output:\n",
    "#### 'This': 2 \n",
    "#### 'is': 1\n",
    "#### 'a': 1\n",
    "#### 'sample': 1\n",
    "#### 'text.': 1\n"
   ]
  },
  {
   "cell_type": "code",
   "execution_count": 12,
   "id": "43c0e912-dd7f-4c87-8679-4e0656001bdb",
   "metadata": {},
   "outputs": [
    {
     "name": "stdout",
     "output_type": "stream",
     "text": [
      "Word counts:\n",
      "'India': 1\n",
      "'is': 1\n",
      "'a': 2\n",
      "'federal': 1\n",
      "'union': 3\n",
      "'comprising': 1\n",
      "'28': 1\n",
      "'states': 2\n",
      "'and': 3\n",
      "'8': 1\n",
      "'territories,for': 1\n",
      "'total': 1\n",
      "'of': 1\n",
      "'36': 1\n",
      "'entities.': 1\n",
      "'The': 1\n",
      "'territories': 1\n",
      "'are': 1\n",
      "'further': 1\n",
      "'subdivided': 1\n",
      "'into': 1\n",
      "'districts': 1\n",
      "'smaller': 1\n",
      "'administrative': 1\n",
      "'divisions.': 1\n"
     ]
    }
   ],
   "source": [
    "input_text = \"India is a federal union comprising 28 states and 8 union territories,for a total of 36 entities. The states and union territories are further subdivided into districts and smaller administrative divisions.\"\n",
    "\n",
    "# Split the input text into words\n",
    "words = input_text.split()\n",
    "\n",
    "# Initialize an empty dictionary to store word counts\n",
    "word_counts = {}\n",
    "\n",
    "# Count the occurrences of each word\n",
    "for word in words:\n",
    "    word_counts[word] = word_counts.get(word, 0) + 1\n",
    "\n",
    "# Print the word counts\n",
    "print(\"Word counts:\")\n",
    "for word, count in word_counts.items():\n",
    "    print(f\"'{word}': {count}\")\n"
   ]
  },
  {
   "cell_type": "markdown",
   "id": "9221f0dc-9b86-4dd4-a3fe-132bab656929",
   "metadata": {},
   "source": [
    "## Q5. Check for Palindrome\n",
    "### Write a Python function called is_palindrome that takes a string as input and returns True if the string is a palindrome, \n",
    "### and False otherwise. A palindrome is a word, phrase, number, or other sequence of characters that reads the same forward and backward, ignoring spaces, punctuation, and capitalization.\n",
    "#### Example:\n",
    "#### Input: \"racecar\"\n",
    "#### Expected Output: True\n"
   ]
  },
  {
   "cell_type": "code",
   "execution_count": 13,
   "id": "328d0946-7b57-40c3-8338-fe634cab2a7c",
   "metadata": {},
   "outputs": [
    {
     "name": "stdout",
     "output_type": "stream",
     "text": [
      "Is the string a palindrome?\n",
      " True\n"
     ]
    }
   ],
   "source": [
    "def is_palindrome(s):\n",
    "    \"\"\"\n",
    "    Check if a string is a palindrome.\n",
    "\n",
    "    Parameters:\n",
    "    s (str): The string to check.\n",
    "\n",
    "    Returns:\n",
    "    bool: True if the string is a palindrome, False otherwise.\n",
    "    \"\"\"\n",
    "    # Compare the string with its reverse\n",
    "    return s == s[::-1]\n",
    "\n",
    "# Test the function\n",
    "input_string = \"racecar\"\n",
    "print(\"Is the string a palindrome?\\n\", is_palindrome(input_string))\n",
    "\n"
   ]
  }
 ],
 "metadata": {
  "kernelspec": {
   "display_name": "Python 3 (ipykernel)",
   "language": "python",
   "name": "python3"
  },
  "language_info": {
   "codemirror_mode": {
    "name": "ipython",
    "version": 3
   },
   "file_extension": ".py",
   "mimetype": "text/x-python",
   "name": "python",
   "nbconvert_exporter": "python",
   "pygments_lexer": "ipython3",
   "version": "3.11.7"
  }
 },
 "nbformat": 4,
 "nbformat_minor": 5
}
