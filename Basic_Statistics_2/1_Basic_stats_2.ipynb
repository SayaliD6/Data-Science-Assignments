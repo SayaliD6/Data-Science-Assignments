{
 "cells": [
  {
   "cell_type": "markdown",
   "id": "48fe85a3-c065-4ff1-b696-d2274758b07d",
   "metadata": {},
   "source": [
    "# Basic Stats-2"
   ]
  },
  {
   "cell_type": "markdown",
   "id": "d4386eb0-7761-493c-b92a-3cd454f0c6f8",
   "metadata": {},
   "source": [
    "### Data:\n",
    "### A total of 15 print-heads were randomly selected and tested until failure. The durability of each print-head (in millions of characters) was recorded as follows:\n",
    "### 1.13, 1.55, 1.43, 0.92, 1.25, 1.36, 1.32, 0.85, 1.07, 1.48, 1.20, 1.33, 1.18, 1.22, 1.29"
   ]
  },
  {
   "cell_type": "markdown",
   "id": "6d8b27ee-62ff-4ea4-a937-788e253abedd",
   "metadata": {},
   "source": [
    "#### a. Build 99% Confidence Interval Using Sample Standard Deviation Assuming the sample is representative of the population, construct a 99% confidence interval for the mean number of characters printed before the print-head fails using the sample standard deviation. Explain the steps you take and the rationale behind using the t-distribution for this task.\n"
   ]
  },
  {
   "cell_type": "code",
   "execution_count": 1,
   "id": "8994258d-c9f3-491c-8b4d-bccec1ee2cf6",
   "metadata": {},
   "outputs": [],
   "source": [
    "import numpy as np\n",
    "from scipy import stats"
   ]
  },
  {
   "cell_type": "code",
   "execution_count": 2,
   "id": "4239adb6-43a2-44a4-b52c-ffa13e2647ce",
   "metadata": {},
   "outputs": [],
   "source": [
    "data = np.array([1.13, 1.55, 1.43, 0.92, 1.25, 1.36, 1.32, 0.85, 1.07, 1.48, 1.20, 1.33, 1.18, 1.22, 1.29])"
   ]
  },
  {
   "cell_type": "code",
   "execution_count": 3,
   "id": "9f803e9f-94b7-4657-a61e-8214603847af",
   "metadata": {},
   "outputs": [],
   "source": [
    "mean = np.mean(data)"
   ]
  },
  {
   "cell_type": "code",
   "execution_count": 4,
   "id": "c18bc905-2c7c-4961-bb1e-91a693f32a8b",
   "metadata": {},
   "outputs": [],
   "source": [
    "std_dev = np.std(data, ddof=1)"
   ]
  },
  {
   "cell_type": "code",
   "execution_count": 5,
   "id": "f75f44ea-56d0-447e-b0f6-b1c80baed884",
   "metadata": {},
   "outputs": [],
   "source": [
    "n = len(data)"
   ]
  },
  {
   "cell_type": "code",
   "execution_count": 6,
   "id": "a1d02f3f-ecd9-4426-ad5e-db6d4b00cdcb",
   "metadata": {},
   "outputs": [],
   "source": [
    "df = n - 1"
   ]
  },
  {
   "cell_type": "code",
   "execution_count": 7,
   "id": "1526f172-c668-4622-8af3-441042ab72af",
   "metadata": {},
   "outputs": [],
   "source": [
    "alpha = 0.01\n",
    "t_critical = stats.t.ppf(1 - alpha / 2, df)"
   ]
  },
  {
   "cell_type": "code",
   "execution_count": 8,
   "id": "91b66e73-46e9-4900-92c5-dd43e4d99ac5",
   "metadata": {},
   "outputs": [],
   "source": [
    "margin_of_error = t_critical * (std_dev / np.sqrt(n))"
   ]
  },
  {
   "cell_type": "code",
   "execution_count": 9,
   "id": "098d4cf1-81f4-4efd-813c-4321964686c6",
   "metadata": {},
   "outputs": [],
   "source": [
    "lower_bound = mean - margin_of_error\n",
    "upper_bound = mean + margin_of_error"
   ]
  },
  {
   "cell_type": "code",
   "execution_count": 10,
   "id": "0d6012da-be98-4370-b542-6c07038fc64f",
   "metadata": {},
   "outputs": [
    {
     "name": "stdout",
     "output_type": "stream",
     "text": [
      "Sample Mean: 1.24\n",
      "Sample Standard Deviation: 0.19\n",
      "Critical t-value: 2.977\n",
      "Margin of Error: 0.148\n",
      "99% Confidence Interval: (1.090, 1.387)\n"
     ]
    }
   ],
   "source": [
    "print(f\"Sample Mean: {mean:.2f}\")\n",
    "print(f\"Sample Standard Deviation: {std_dev:.2f}\")\n",
    "print(f\"Critical t-value: {t_critical:.3f}\")\n",
    "print(f\"Margin of Error: {margin_of_error:.3f}\")\n",
    "print(f\"99% Confidence Interval: ({lower_bound:.3f}, {upper_bound:.3f})\")"
   ]
  },
  {
   "cell_type": "markdown",
   "id": "4c51544f-5662-4f9b-a63d-ac4b33785c35",
   "metadata": {},
   "source": [
    "#### b. Build 99% Confidence Interval Using Known Population Standard Deviation If it were known that the population standard deviation is 0.2 million characters, construct a 99% confidence interval for the mean number of characters printed before failure.\n"
   ]
  },
  {
   "cell_type": "code",
   "execution_count": 11,
   "id": "c71082ea-9bcd-4dd5-901a-9d1e29fa2736",
   "metadata": {},
   "outputs": [],
   "source": [
    "population_std_dev = 0.2"
   ]
  },
  {
   "cell_type": "code",
   "execution_count": 12,
   "id": "4a401e11-3029-40e2-ba56-5300a02ba05d",
   "metadata": {},
   "outputs": [],
   "source": [
    "# Z-critical value for 99% confidence interval\n",
    "alpha = 0.01\n",
    "z_critical = stats.norm.ppf(1 - alpha / 2)"
   ]
  },
  {
   "cell_type": "code",
   "execution_count": 13,
   "id": "3d4a367d-ce62-442a-b997-c65f33fbcbef",
   "metadata": {},
   "outputs": [],
   "source": [
    "margin_of_error = z_critical * (population_std_dev / np.sqrt(n))"
   ]
  },
  {
   "cell_type": "code",
   "execution_count": 14,
   "id": "1f93fd8e-0206-4156-8aa8-909404d89bce",
   "metadata": {},
   "outputs": [],
   "source": [
    "# Confidence interval\n",
    "lower_bound = mean - margin_of_error\n",
    "upper_bound = mean + margin_of_error"
   ]
  },
  {
   "cell_type": "code",
   "execution_count": 15,
   "id": "220b508f-34f5-4932-aae6-dfdb34fd71b6",
   "metadata": {},
   "outputs": [
    {
     "name": "stdout",
     "output_type": "stream",
     "text": [
      "Sample Mean: 1.24\n",
      "Known Population Standard Deviation: 0.20\n",
      "Z-critical value: 2.576\n",
      "Margin of Error: 0.133\n",
      "99% Confidence Interval: (1.106, 1.372)\n"
     ]
    }
   ],
   "source": [
    "print(f\"Sample Mean: {mean:.2f}\")\n",
    "print(f\"Known Population Standard Deviation: {population_std_dev:.2f}\")\n",
    "print(f\"Z-critical value: {z_critical:.3f}\")\n",
    "print(f\"Margin of Error: {margin_of_error:.3f}\")\n",
    "print(f\"99% Confidence Interval: ({lower_bound:.3f}, {upper_bound:.3f})\")"
   ]
  }
 ],
 "metadata": {
  "kernelspec": {
   "display_name": "Python 3 (ipykernel)",
   "language": "python",
   "name": "python3"
  },
  "language_info": {
   "codemirror_mode": {
    "name": "ipython",
    "version": 3
   },
   "file_extension": ".py",
   "mimetype": "text/x-python",
   "name": "python",
   "nbconvert_exporter": "python",
   "pygments_lexer": "ipython3",
   "version": "3.11.7"
  }
 },
 "nbformat": 4,
 "nbformat_minor": 5
}
