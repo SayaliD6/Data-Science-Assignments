{
 "cells": [
  {
   "cell_type": "markdown",
   "id": "20f5c42a-3dc2-4e11-ad64-e0b87f30027e",
   "metadata": {},
   "source": [
    "# HYPOTHESIS TESTING"
   ]
  },
  {
   "cell_type": "markdown",
   "id": "d1443bbf-ac2b-415a-a8c8-f96189a2b946",
   "metadata": {},
   "source": [
    "## Objective:\n",
    "* To investigate the restaurant owners' claim about the increase in weekly operating costs using hypothesis testing.\n"
   ]
  },
  {
   "cell_type": "markdown",
   "id": "0cb894e6-8a80-492c-b4a6-eea1759b78d9",
   "metadata": {},
   "source": [
    "### State the Hypotheses statement:\n",
    "#### Null Hypothesis (H0): \n",
    "* The mean weekly operating cost is equal to the theoretical model.\n",
    "* H0: μ = $1,000 + $5(600) = $4,000\n",
    "\n",
    "#### Alternative Hypothesis (H1): \n",
    "* The mean weekly operating cost is higher than the theoretical model.\n",
    "* H1: μ > $4,000"
   ]
  },
  {
   "cell_type": "code",
   "execution_count": 1,
   "id": "6a5894a0-b616-4a4e-acd2-7a2f8e6953b8",
   "metadata": {},
   "outputs": [],
   "source": [
    "import scipy.stats as stats\n",
    "import math"
   ]
  },
  {
   "cell_type": "code",
   "execution_count": 2,
   "id": "e8b9bb70-3d3c-48c2-9851-0c174b28039a",
   "metadata": {},
   "outputs": [],
   "source": [
    "# Given data\n",
    "sample_mean = 3050\n",
    "theoretical_mean = 1000 + 5 * 600  # W = $1,000 + $5X, where X = 600\n",
    "sample_size = 25\n",
    "std_dev = 5 * 25  # σ = 5 * 25 units"
   ]
  },
  {
   "cell_type": "markdown",
   "id": "f48dba2d-c92e-425b-995e-db455a7a2ea1",
   "metadata": {},
   "source": [
    "### Calculate the Test Statistic:\n",
    "First, let's calculate the theoretical mean weekly cost:\n",
    "μ = $1,000 + $5(600) = $4,000\n",
    "\n",
    "Now, we can calculate the test statistic:\n",
    "\n",
    "t = (ˉx - μ) / (σ / √n)\n",
    "\n",
    "Where:\n",
    "ˉx = 3,050 (sample mean weekly cost)\n",
    "μ = 4,000 (theoretical mean weekly cost)\n",
    "σ = 5 * 25 = 125 (standard deviation of weekly cost)\n",
    "n = 25 (sample size)\n",
    "\n",
    "t = (3,050 - 4,000) / (125 / √25)\n",
    "t = (-950) / (125 / 5)\n",
    "t = -950 / 25\n",
    "t = -38 "
   ]
  },
  {
   "cell_type": "code",
   "execution_count": 3,
   "id": "ea23dbda-1d6b-4f4e-8bbe-8778c81c69e5",
   "metadata": {},
   "outputs": [],
   "source": [
    "# Calculate the test statistic\n",
    "test_statistic = (sample_mean - theoretical_mean) / (std_dev / math.sqrt(sample_size))"
   ]
  },
  {
   "cell_type": "markdown",
   "id": "4b82fe49-293e-4a31-9d67-0b2305e83cb0",
   "metadata": {},
   "source": [
    "### Determine the Critical Value:\n",
    "For a one-tailed test with α = 0.05 and a large sample size, the critical Z-value is 1.645."
   ]
  },
  {
   "cell_type": "code",
   "execution_count": 7,
   "id": "ef2a59a1-c4e5-4a0d-b171-73d4c30a1795",
   "metadata": {},
   "outputs": [],
   "source": [
    "# Set the significance level\n",
    "alpha = 0.05\n",
    "\n",
    "# Calculate the critical value (one-tailed test)\n",
    "critical_value = stats.norm.ppf(1 - alpha)"
   ]
  },
  {
   "cell_type": "markdown",
   "id": "938ca3d0-28e2-40ea-a86a-f5a6d8af61ae",
   "metadata": {},
   "source": [
    "### The test statistic (-38) is less than the critical value (1.645) and is negative. This means we fail to reject the null hypothesis."
   ]
  },
  {
   "cell_type": "code",
   "execution_count": 8,
   "id": "ead365c7-47d5-4a05-8357-cfabcceed337",
   "metadata": {},
   "outputs": [],
   "source": [
    "# Perform the hypothesis test\n",
    "p_value = 1 - stats.norm.cdf(test_statistic)"
   ]
  },
  {
   "cell_type": "code",
   "execution_count": 9,
   "id": "8ba792f5-293d-44b2-8c68-e59e877d9e57",
   "metadata": {},
   "outputs": [
    {
     "name": "stdout",
     "output_type": "stream",
     "text": [
      "Theoretical Mean: $4000\n",
      "Sample Mean: $3050\n",
      "Test Statistic: -38.0000\n",
      "Critical Value: 1.6449\n",
      "P-value: 1.0000\n",
      "Fail to reject the null hypothesis\n",
      "There is not enough evidence to support the claim that operating costs are higher than the model suggests.\n"
     ]
    }
   ],
   "source": [
    "# Print results\n",
    "print(f\"Theoretical Mean: ${theoretical_mean}\")\n",
    "print(f\"Sample Mean: ${sample_mean}\")\n",
    "print(f\"Test Statistic: {test_statistic:.4f}\")\n",
    "print(f\"Critical Value: {critical_value:.4f}\")\n",
    "print(f\"P-value: {p_value:.4f}\")\n",
    "\n",
    "# Make a decision\n",
    "if test_statistic > critical_value:\n",
    "    print(\"Reject the null hypothesis\")\n",
    "    print(\"There is evidence to support the claim that operating costs are higher than the model suggests.\")\n",
    "else:\n",
    "    print(\"Fail to reject the null hypothesis\")\n",
    "    print(\"There is not enough evidence to support the claim that operating costs are higher than the model suggests.\")"
   ]
  },
  {
   "cell_type": "markdown",
   "id": "7d01574f-4e3c-4db3-9612-dd5ec2126abe",
   "metadata": {},
   "source": [
    "### Conclusion:\n",
    "Based on our analysis, we fail to reject the null hypothesis. \n",
    "This means there is not enough evidence to support the restaurant owners' claim that the weekly operating costs are higher than the model suggests. \n",
    "In fact, the sample data indicates that the actual costs are lower than the theoretical model predicts.\n",
    "\n",
    "This conclusion is surprising given the initial claim of the restaurant owners. It's possible that:\n",
    "\n",
    "* The sample may not be representative of all franchises.\n",
    "* There might be other factors affecting cost perception not captured in this analysis.\n",
    "* The restaurant owners might be experiencing short-term fluctuations not reflected in the overall trend.\n"
   ]
  }
 ],
 "metadata": {
  "kernelspec": {
   "display_name": "Python 3 (ipykernel)",
   "language": "python",
   "name": "python3"
  },
  "language_info": {
   "codemirror_mode": {
    "name": "ipython",
    "version": 3
   },
   "file_extension": ".py",
   "mimetype": "text/x-python",
   "name": "python",
   "nbconvert_exporter": "python",
   "pygments_lexer": "ipython3",
   "version": "3.11.7"
  }
 },
 "nbformat": 4,
 "nbformat_minor": 5
}
