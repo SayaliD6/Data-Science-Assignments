{
 "cells": [
  {
   "cell_type": "markdown",
   "id": "0348ba12-1313-481a-b088-0f9e2c94ab1b",
   "metadata": {},
   "source": [
    "# CHI-SQUARE TEST"
   ]
  },
  {
   "cell_type": "markdown",
   "id": "732686c6-f9a8-4214-94a0-8ea1beb6669f",
   "metadata": {},
   "source": [
    "## Association between Device Type and Customer Satisfaction"
   ]
  },
  {
   "cell_type": "markdown",
   "id": "433a1f9e-3133-41d1-9268-8cef42f4072b",
   "metadata": {},
   "source": [
    "## Objective:\n",
    "To use the Chi-Square test for independence to determine if there's a significant association between the type of smart home device purchased (Smart Thermostats vs. Smart Lights) and the customer satisfaction level.\n"
   ]
  },
  {
   "cell_type": "code",
   "execution_count": 11,
   "id": "11218d70-c734-4970-81e7-4c5f2a3a0be1",
   "metadata": {},
   "outputs": [],
   "source": [
    "import numpy as np\n",
    "import scipy.stats as stats\n",
    "import pandas as pd"
   ]
  },
  {
   "cell_type": "markdown",
   "id": "fcfe61d2-3ec9-4a9c-aeef-d3d9c4a20700",
   "metadata": {},
   "source": [
    "# 1. State the Hypotheses"
   ]
  },
  {
   "cell_type": "code",
   "execution_count": 12,
   "id": "ac47e849-a5ce-421f-ab10-03be2fb362eb",
   "metadata": {},
   "outputs": [
    {
     "name": "stdout",
     "output_type": "stream",
     "text": [
      "Hypotheses:\n",
      "H0: There is no association between the type of smart home device and customer satisfaction level.\n",
      "H1: There is an association between the type of smart home device and customer satisfaction level.\n"
     ]
    }
   ],
   "source": [
    "print(\"Hypotheses:\")\n",
    "print(\"H0: There is no association between the type of smart home device and customer satisfaction level.\")\n",
    "print(\"H1: There is an association between the type of smart home device and customer satisfaction level.\")"
   ]
  },
  {
   "cell_type": "markdown",
   "id": "70b8bf39-e4c8-4a3c-bb00-168890e21c97",
   "metadata": {},
   "source": [
    "# 2. Compute the Chi-Square Statistic\n",
    "### The Chi-Square statistic is then computed using the formula: Σ((O-E)^2 / E), where O is the observed frequency and E is the expected frequency."
   ]
  },
  {
   "cell_type": "code",
   "execution_count": 13,
   "id": "b8415075-f9ba-437a-8782-6162a9d6e0ed",
   "metadata": {},
   "outputs": [],
   "source": [
    "# Create the observed frequency table\n",
    "observed = np.array([\n",
    "    [50, 70],\n",
    "    [80, 100],\n",
    "    [60, 90],\n",
    "    [30, 50],\n",
    "    [20, 50]\n",
    "])"
   ]
  },
  {
   "cell_type": "code",
   "execution_count": 14,
   "id": "71c3b0d8-8ea4-4df6-91f4-e49465d48b40",
   "metadata": {},
   "outputs": [
    {
     "name": "stdout",
     "output_type": "stream",
     "text": [
      "\n",
      "Observed Frequency Table:\n",
      "                  Smart Thermostat  Smart Light  Total\n",
      "Very Satisfied                  50           70    120\n",
      "Satisfied                       80          100    180\n",
      "Neutral                         60           90    150\n",
      "Unsatisfied                     30           50     80\n",
      "Very Unsatisfied                20           50     70\n",
      "Total                          240          360    600\n"
     ]
    }
   ],
   "source": [
    "# Create a DataFrame for better visualization\n",
    "satisfaction_levels = ['Very Satisfied', 'Satisfied', 'Neutral', 'Unsatisfied', 'Very Unsatisfied']\n",
    "devices = ['Smart Thermostat', 'Smart Light']\n",
    "df_observed = pd.DataFrame(observed, index=satisfaction_levels, columns=devices)\n",
    "df_observed['Total'] = df_observed.sum(axis=1)\n",
    "df_observed.loc['Total'] = df_observed.sum()\n",
    "\n",
    "print(\"\\nObserved Frequency Table:\")\n",
    "print(df_observed)"
   ]
  },
  {
   "cell_type": "code",
   "execution_count": 15,
   "id": "bb7a33ff-d3cb-4327-855a-d28178e70441",
   "metadata": {},
   "outputs": [
    {
     "name": "stdout",
     "output_type": "stream",
     "text": [
      "\n",
      "Expected Frequency Table:\n",
      "                  Smart Thermostat  Smart Light\n",
      "Very Satisfied                48.0         72.0\n",
      "Satisfied                     72.0        108.0\n",
      "Neutral                       60.0         90.0\n",
      "Unsatisfied                   32.0         48.0\n",
      "Very Unsatisfied              28.0         42.0\n"
     ]
    }
   ],
   "source": [
    "# Calculate expected frequencies\n",
    "total = df_observed.loc['Total', 'Total']\n",
    "expected = np.outer(df_observed['Total'][:-1], df_observed.loc['Total'][devices]) / total\n",
    "\n",
    "print(\"\\nExpected Frequency Table:\")\n",
    "df_expected = pd.DataFrame(expected, index=satisfaction_levels, columns=devices)\n",
    "print(df_expected)"
   ]
  },
  {
   "cell_type": "code",
   "execution_count": 16,
   "id": "abf8f20a-453e-4a10-b002-a068e8c0c0b3",
   "metadata": {},
   "outputs": [
    {
     "name": "stdout",
     "output_type": "stream",
     "text": [
      "\n",
      "Chi-Square Statistic: 5.6382\n"
     ]
    }
   ],
   "source": [
    "# Calculate Chi-Square statistic\n",
    "chi2_stat = np.sum((observed - expected)**2 / expected)\n",
    "\n",
    "print(f\"\\nChi-Square Statistic: {chi2_stat:.4f}\")"
   ]
  },
  {
   "cell_type": "markdown",
   "id": "9b9ca821-ce5c-44ec-b667-b2cb255da04c",
   "metadata": {},
   "source": [
    "# 3. Determine the Critical Value\n",
    "### The critical value using the chi-square distribution with (r-1)(c-1) degrees of freedom, where r is the number of rows and c is the number of columns in the contingency table."
   ]
  },
  {
   "cell_type": "code",
   "execution_count": 17,
   "id": "ec7f604f-943d-45fa-847f-f3c6d3b2b98b",
   "metadata": {},
   "outputs": [],
   "source": [
    "df = (len(satisfaction_levels) - 1) * (len(devices) - 1)  # degrees of freedom\n",
    "alpha = 0.05\n",
    "critical_value = stats.chi2.ppf(1 - alpha, df)"
   ]
  },
  {
   "cell_type": "code",
   "execution_count": 18,
   "id": "e99cbc06-1695-4518-af5d-072e33bb2ca6",
   "metadata": {},
   "outputs": [
    {
     "name": "stdout",
     "output_type": "stream",
     "text": [
      "\n",
      "Critical Value:\n",
      "Degrees of freedom: 4\n",
      "Significance level (alpha): 0.05\n",
      "Critical value: 9.4877\n"
     ]
    }
   ],
   "source": [
    "print(f\"\\nCritical Value:\")\n",
    "print(f\"Degrees of freedom: {df}\")\n",
    "print(f\"Significance level (alpha): {alpha}\")\n",
    "print(f\"Critical value: {critical_value:.4f}\")"
   ]
  },
  {
   "cell_type": "markdown",
   "id": "2a9d05c6-6579-47d5-8f2a-272d3071274c",
   "metadata": {},
   "source": [
    "# 4. Make a Decision\n",
    "### We make a decision by comparing the Chi-Square statistic to the critical value. We also calculate the p-value for a more precise interpretation."
   ]
  },
  {
   "cell_type": "code",
   "execution_count": 19,
   "id": "6e7488ee-76ec-4ea8-9d48-ec049786f1aa",
   "metadata": {},
   "outputs": [
    {
     "name": "stdout",
     "output_type": "stream",
     "text": [
      "\n",
      "Decision:\n",
      "Fail to reject the null hypothesis\n",
      "Chi-Square statistic (5.6382) <= Critical value (9.4877)\n",
      "\n",
      "P-value: 0.2278\n"
     ]
    }
   ],
   "source": [
    "p_value = 1 - stats.chi2.cdf(chi2_stat, df)\n",
    "\n",
    "print(\"\\nDecision:\")\n",
    "if chi2_stat > critical_value:\n",
    "    print(\"Reject the null hypothesis\")\n",
    "    print(f\"Chi-Square statistic ({chi2_stat:.4f}) > Critical value ({critical_value:.4f})\")\n",
    "else:\n",
    "    print(\"Fail to reject the null hypothesis\")\n",
    "    print(f\"Chi-Square statistic ({chi2_stat:.4f}) <= Critical value ({critical_value:.4f})\")\n",
    "\n",
    "print(f\"\\nP-value: {p_value:.4f}\")"
   ]
  },
  {
   "cell_type": "markdown",
   "id": "9743bbb5-1f26-4732-ae07-dd6455a356fd",
   "metadata": {},
   "source": [
    "# 5. Conclusion"
   ]
  },
  {
   "cell_type": "code",
   "execution_count": 20,
   "id": "a8fd6800-fba2-4b53-8484-7a71db8a02ef",
   "metadata": {},
   "outputs": [
    {
     "name": "stdout",
     "output_type": "stream",
     "text": [
      "\n",
      "Conclusion:\n",
      "There is not enough evidence to suggest a significant association between the type of smart home device and customer satisfaction level.\n"
     ]
    }
   ],
   "source": [
    "print(\"\\nConclusion:\")\n",
    "if p_value < alpha:\n",
    "    print(\"There is strong evidence to suggest a significant association between the type of smart home device and customer satisfaction level.\")\n",
    "else:\n",
    "    print(\"There is not enough evidence to suggest a significant association between the type of smart home device and customer satisfaction level.\")"
   ]
  }
 ],
 "metadata": {
  "kernelspec": {
   "display_name": "Python 3 (ipykernel)",
   "language": "python",
   "name": "python3"
  },
  "language_info": {
   "codemirror_mode": {
    "name": "ipython",
    "version": 3
   },
   "file_extension": ".py",
   "mimetype": "text/x-python",
   "name": "python",
   "nbconvert_exporter": "python",
   "pygments_lexer": "ipython3",
   "version": "3.11.7"
  }
 },
 "nbformat": 4,
 "nbformat_minor": 5
}
